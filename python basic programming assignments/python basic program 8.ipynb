{
 "cells": [
  {
   "cell_type": "markdown",
   "id": "8cc12642",
   "metadata": {},
   "source": [
    "1. Write a Python Program to Add two Matrices ?\n",
    "def addMatrices(a,b):\n",
    "    print(f'Inputs: {a},{b}')\n",
    "    if len(a) == len(b):\n",
    "        out_matrix = []\n",
    "        for ele in range(len(a)):\n",
    "            if len(a[ele]) == len(b[ele]):\n",
    "                out_matrix.append([])\n",
    "                for sub_ele in range(len(a[ele])):\n",
    "                    out_matrix[ele].append(a[ele][sub_ele]+b[ele][sub_ele])\n",
    "            else:\n",
    "                print('Both Matrices must contains same no of rows and columns') \n",
    "    else:\n",
    "        print('Both Matrices must contains same no of rows and columns')\n",
    "    print(f'Output: {out_matrix}')\n",
    "\n",
    "addMatrices([[1,2,3],[4,5,6],[7,8,9]],[[9,8,7],[6,5,4],[3,2,1]])\n",
    "addMatrices([[2,3,5],[1,1,1],[2,2,2]],[[4,3,5],[1,2,3],[3,2,1]])"
   ]
  },
  {
   "cell_type": "markdown",
   "id": "654efef4",
   "metadata": {},
   "source": [
    "2. Write a Python Program to Multiply two Matrices ?\n",
    "\n",
    "\n",
    "a = [[1,2,3],[4,5,6],[7,8,9]]\n",
    "b = [[1,4,7],[2,5,8],[3,6,9]]\n",
    "\n",
    "def multiply_matrice(a,b):\n",
    "\n",
    "    output = []\n",
    "    if len(a[0]) == len(b):\n",
    "    \n",
    "        for ele in range(len(a[0])):\n",
    "        \n",
    "            output.append([0 for ele in range(len(b[0]))])\n",
    "            \n",
    "        for i in range(len(a)):\n",
    "            for j in range(len(b[0])):\n",
    "                for k in range(len(b)):\n",
    "                \n",
    "                    output[i][j] += a[i][k]*b[k][j]\n",
    "        print(output)     \n",
    "    else:\n",
    "        print('Matrix Multiplication is Not Possible')\n",
    "        \n",
    "multiply_matrice(a,b)\n"
   ]
  },
  {
   "cell_type": "markdown",
   "id": "52df5ee6",
   "metadata": {},
   "source": [
    "3. Write a Python Program to transpose a Matrix ?\n",
    "\n",
    "#Original Matrix\n",
    "x = [[1,2],[3,4],[5,6]]\n",
    "\n",
    "result = [[0, 0, 0], [0, 0, 0]]\n",
    "# Iterate through rows\n",
    "for i in range(len(x)):\n",
    "\n",
    "   #Iterate through columns\n",
    "   for j in range(len(x[0])):\n",
    "   \n",
    "      result[j][i] = x[i][j]\n",
    "      \n",
    "   for r in Result\n",
    "print(r)"
   ]
  },
  {
   "cell_type": "markdown",
   "id": "a98c8c7b",
   "metadata": {},
   "source": [
    "4. Write a Python Program to sort Words in an Alphabatical Order ?\n",
    "\n",
    "\n",
    "def sortString():\n",
    "\n",
    "    in_string = input(\"Enter a String: \").title()\n",
    "    \n",
    "    sorted_list = sorted(in_string.split(' '))\n",
    "    \n",
    "    print(' '.join(sorted_list))\n",
    "\n",
    "sortString()\n"
   ]
  },
  {
   "cell_type": "markdown",
   "id": "845deddc",
   "metadata": {},
   "source": [
    "5. Write a Python Program to remove Punctuations From a String ?\n",
    "\n",
    "def removePunctuatuions():\n",
    "\n",
    "    punctuations = '''!()-[]{};:'\"\\,<>./?@#$%^&*_~'''\n",
    "    \n",
    "    in_string = input('Enter a String: ')\n",
    "    \n",
    "    out_string = ''\n",
    "    for ele in in_string:\n",
    "        if ele not in punctuations:\n",
    "            out_string += ele\n",
    "    print(out_string)\n",
    "    \n",
    "removePunctuatuions()"
   ]
  },
  {
   "cell_type": "code",
   "execution_count": null,
   "id": "297fb4a3",
   "metadata": {},
   "outputs": [],
   "source": []
  }
 ],
 "metadata": {
  "kernelspec": {
   "display_name": "Python 3 (ipykernel)",
   "language": "python",
   "name": "python3"
  },
  "language_info": {
   "codemirror_mode": {
    "name": "ipython",
    "version": 3
   },
   "file_extension": ".py",
   "mimetype": "text/x-python",
   "name": "python",
   "nbconvert_exporter": "python",
   "pygments_lexer": "ipython3",
   "version": "3.8.8"
  }
 },
 "nbformat": 4,
 "nbformat_minor": 5
}

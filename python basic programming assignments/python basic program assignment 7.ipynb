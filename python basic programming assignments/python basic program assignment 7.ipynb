{
 "cells": [
  {
   "cell_type": "markdown",
   "id": "103444dd",
   "metadata": {},
   "source": [
    "1. Write a Python Program to find sum of Array ?\n",
    "\n",
    "def sumOfArray():\n",
    "\n",
    "    in_arr = eval(input(\"Enter the Array: \"))\n",
    "    \n",
    "    print(f'The sum of {in_arr} is {sum(in_arr)}')\n",
    "\n",
    "sumOfArray()"
   ]
  },
  {
   "cell_type": "markdown",
   "id": "22e7f36e",
   "metadata": {},
   "source": [
    "2. Write a Python Program to find Largest element in an Array ?\n",
    "\n",
    "def reverseOfArray():\n",
    "\n",
    "    in_arr = eval(input(\"Enter the Array: \"))\n",
    "    \n",
    "    print(f\"The Reverse of Array {in_arr} is {in_arr[::-1]}\")"
   ]
  },
  {
   "cell_type": "markdown",
   "id": "fb64f04e",
   "metadata": {},
   "source": [
    "3. Write a Python Program to Split the array and add the first part to the end ?\n",
    "\n",
    "def sumOfSplits():\n",
    "\n",
    "    in_arr = eval(input(\"Enter the Array: \"))\n",
    "    \n",
    "    print(f\"The Sum of First and Last Elements of Array {in_arr} is {in_arr[0]+in_arr[-1]}\")\n",
    "    \n",
    "sumOfSplits()"
   ]
  },
  {
   "cell_type": "code",
   "execution_count": null,
   "id": "8dfeecd0",
   "metadata": {},
   "outputs": [],
   "source": [
    "5. Write a Python Program to check if given array is Monotonic ?\n",
    "def checkMonotonic():\n",
    "    in_arr = eval(input(\"Enter the Array: \"))\n",
    "    if(all(in_arr[i]<=in_arr[i+1] for i in range(len(in_arr)-1)) or all(in_arr[i]>=in_arr[i+1] for i in range(len(in_arr)-1))):\n",
    "        print(f'Array {in_arr} is Monotonic')\n",
    "    else:\n",
    "        print(f'Array {in_arr} is Not Monotonic')\n",
    "\n",
    "checkMonotonic()\n",
    "checkMonotonic()"
   ]
  }
 ],
 "metadata": {
  "kernelspec": {
   "display_name": "Python 3 (ipykernel)",
   "language": "python",
   "name": "python3"
  },
  "language_info": {
   "codemirror_mode": {
    "name": "ipython",
    "version": 3
   },
   "file_extension": ".py",
   "mimetype": "text/x-python",
   "name": "python",
   "nbconvert_exporter": "python",
   "pygments_lexer": "ipython3",
   "version": "3.8.8"
  }
 },
 "nbformat": 4,
 "nbformat_minor": 5
}

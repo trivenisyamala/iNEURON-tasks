{
 "cells": [
  {
   "cell_type": "markdown",
   "id": "5a76d52e",
   "metadata": {},
   "source": [
    "1. Write a Python Program to Display Fibonacci Sequence using Recursion ?\n",
    "def genFibonacci(n,a,b):\n",
    "\n",
    "    if n == 0:\n",
    "        return 1\n",
    "    else:\n",
    "        result = a+b\n",
    "        print(result, end=', ')\n",
    "        genFibonacci(n-1,b,result)\n",
    "        \n",
    "in_num = int(input('Enter the length of Series: '))\n",
    "\n",
    "print('0, 1',end=', ')\n",
    "genFibonacci(in_num,1,2)"
   ]
  },
  {
   "cell_type": "markdown",
   "id": "3b37719c",
   "metadata": {},
   "source": [
    "2. Write a Python Program to Find Factorial of a Number using Recursion ?\n",
    "\n",
    "def factorial(num):\n",
    "\n",
    "    if (num < 1):\n",
    "    \n",
    "        return 1\n",
    "    else:\n",
    "        return num*factorial(num-1)\n",
    "        \n",
    "num = int(input('Enter a number: '))\n",
    "\n",
    "value = factorial(num)\n",
    "\n",
    "print('The Factorial of {num} is {value}')"
   ]
  },
  {
   "cell_type": "code",
   "execution_count": 22,
   "id": "9bbc5005",
   "metadata": {},
   "outputs": [
    {
     "name": "stdout",
     "output_type": "stream",
     "text": [
      "ENTER YOUR WEIGHT(KGS):45\n",
      "ENTER YOUR HEIGHT(MTS):156\n",
      "your BMI is 0.0018491124260355029 and status is underweight\n"
     ]
    }
   ],
   "source": [
    "3. Write a Python Program to Calculate your Body Mass Index ?\n",
    "\n",
    "def calculateBMI():\n",
    "    in_weight = eval(input('ENTER YOUR WEIGHT(KGS):'))\n",
    "    in_height = eval(input('ENTER YOUR HEIGHT(MTS):'))\n",
    "    calc_bmi = in_weight/pow(in_height, 2)\n",
    "    if (calc_bmi <18.5):\n",
    "        status = 'underweight'\n",
    "    elif (calc_bmi >=18.5 and calc_bmi <24.9):\n",
    "        status = 'healthy'\n",
    "    elif (calc_bmi >= 24.9 and calc_bmi < 30):\n",
    "        status = 'Overweight'\n",
    "    elif (calc_bmi >=30):\n",
    "        status = 'Suffering from Obesity'\n",
    "    print(f'your BMI is {calc_bmi} and status is {status}')\n",
    "calculateBMI()"
   ]
  },
  {
   "cell_type": "markdown",
   "id": "d9a28b42",
   "metadata": {},
   "source": [
    "4. Write a Python Program to Calculate the Natural Logarithm of any Number ?\n",
    "\n",
    "import math\n",
    "\n",
    "def genNatLog():\n",
    "\n",
    "    in_num = eval(input(\"Enter a Number:\"))\n",
    "    print(math.log(in_num))\n",
    "\n",
    "genNatLog()"
   ]
  },
  {
   "cell_type": "markdown",
   "id": "3c2d6362",
   "metadata": {},
   "source": [
    "5. Write a Python Program for Cube sum of first n Natural Numbers ?\n",
    "\n",
    "def cubeOfNaturalNumbers():\n",
    "\n",
    "    in_num = int(input(\"Enter the no of Natural Numbers: \"))\n",
    "    result = pow(((in_num * (in_num +1))/2),2)\n",
    "    \n",
    "    print(f'The Cube Sum of First {in_num} Natural Numbers is {result}')\n",
    "\n",
    "cubeOfNaturalNumbers()"
   ]
  },
  {
   "cell_type": "code",
   "execution_count": null,
   "id": "86f20def",
   "metadata": {},
   "outputs": [],
   "source": []
  },
  {
   "cell_type": "code",
   "execution_count": null,
   "id": "e2a2b3ed",
   "metadata": {},
   "outputs": [],
   "source": []
  }
 ],
 "metadata": {
  "kernelspec": {
   "display_name": "Python 3 (ipykernel)",
   "language": "python",
   "name": "python3"
  },
  "language_info": {
   "codemirror_mode": {
    "name": "ipython",
    "version": 3
   },
   "file_extension": ".py",
   "mimetype": "text/x-python",
   "name": "python",
   "nbconvert_exporter": "python",
   "pygments_lexer": "ipython3",
   "version": "3.8.8"
  }
 },
 "nbformat": 4,
 "nbformat_minor": 5
}

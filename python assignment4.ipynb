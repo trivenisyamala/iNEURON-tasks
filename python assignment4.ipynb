{
 "cells": [
  {
   "cell_type": "markdown",
   "id": "9961d463",
   "metadata": {},
   "source": [
    "1. What exactly is [ ]?\n",
    "\n",
    "Ans: The empty list represented by [ ] is a list that contains no items. This is similar to '' which represents an empty string.\""
   ]
  },
  {
   "cell_type": "markdown",
   "id": "f354df5b",
   "metadata": {},
   "source": [
    "2.In a list of values stored in a variable called spam, how would you assign the value 'hello' as the third value? \n",
    "\n",
    "\n",
    "(Assume [2, 4, 6, 8, 10] are in spam.)\n",
    "\n",
    "Ans: spam[2]='hello' (Note: Lists follows zero based indexing)\n",
    "\n",
    "    # Example\n",
    "spam=[2,4,6,8,10]\n",
    "print(spam)\n",
    "spam[2]='hello'\n",
    "\n",
    "#List uses zero based indexing\n",
    "print(spam)\n",
    "[2, 4, 6, 8, 10]\n",
    "[2, 4, 'hello', 8, 10]"
   ]
  },
  {
   "cell_type": "markdown",
   "id": "6b9df5ee",
   "metadata": {},
   "source": [
    "3. What is the value of spam[int(int('3'*2)//11)] ?\n",
    "\n",
    "\n",
    "Ans: 'd' (Note that '3' * 2 is the string '33', which is passed to int() before being divided by 11. This eventually evaluates to 3, spam[3] is equal to d.)\n",
    "\n",
    "spam=['a','b','c','d']\n",
    "print(\"spam[int(int('3'*2)//11)] ->\",spam[int(int('3'*2)//11)])"
   ]
  },
  {
   "cell_type": "markdown",
   "id": "b2019b9d",
   "metadata": {},
   "source": [
    "4. What is the value of spam[-1]?\n",
    "\n",
    "Ans: 'd' (Lists support Negative indexing, Hence spam[-1] returs 'd')\n",
    "\n",
    "spam=['a','b','c','d']\n",
    "print('spam[-1] -> ',spam[-1])"
   ]
  },
  {
   "cell_type": "markdown",
   "id": "0a379e8d",
   "metadata": {},
   "source": [
    " 5. What is the value of spam[:2]?\n",
    " \n",
    " \n",
    "Ans: spam[:2] returns all elements in the list spam from 0 to 2 excluding 2\n",
    "\n",
    "example: print(spam)\n",
    "print(spam[:2])\n",
    "\n",
    "[a, b, c, d]\n",
    "[a, b]"
   ]
  },
  {
   "cell_type": "markdown",
   "id": "93e91717",
   "metadata": {},
   "source": [
    "# Let's pretend bacon has the list [3.14,'cat',11,'cat',True] for the next three question"
   ]
  },
  {
   "cell_type": "markdown",
   "id": "285a052d",
   "metadata": {},
   "source": [
    "6. What is the value of bacon.index('cat')?\n",
    "\n",
    "\n",
    "Ans: The value of bacon.index('cat') is 1 (Note: index method returns the index of first occuerence of 'cat')"
   ]
  },
  {
   "cell_type": "markdown",
   "id": "7cad97e5",
   "metadata": {},
   "source": [
    "7. How does bacon.append(99) change the look of the list value in bacon?\n",
    "\n",
    "Ans: The append method adds new elements to the end of the list.\n",
    "\n",
    "\n",
    "# Example\n",
    "print(bacon)\n",
    "\n",
    "bacon.append(99) # appends 99 to the end of the list\n",
    "\n",
    "print(bacon)\n",
    "\n",
    "[3.14, 'cat', 11, 'cat', True]\n",
    "[3.14, 'cat', 11, 'cat', True, 99]"
   ]
  },
  {
   "cell_type": "markdown",
   "id": "72c94530",
   "metadata": {},
   "source": [
    "8. How does bacon.remove('cat') change the look of the list in bacon?\n",
    "\n",
    "Ans: The remove method removes the first occurence of the element in the list\n",
    "\n",
    "print(bacon)\n",
    "bacon.remove('cat')\n",
    "print(bacon)"
   ]
  },
  {
   "cell_type": "markdown",
   "id": "22240f7e",
   "metadata": {},
   "source": [
    "9. What are the list concatenation and list replication operators?\n",
    "\n",
    "\n",
    "Ans: The operator for list concatenation is +, while the operator for replication is *. (This is the same as for strings.)\n",
    "\n",
    "# Example\n",
    "list_1 = ['ML','DL','AI','CV','NLP']\n",
    "\n",
    "list_2 = ['RNN','CNN','SVN']\n",
    "\n",
    "print(list_1 + list_2) # List Concatenation\n",
    "\n",
    "print(list_2*2) # List Replication\n",
    "\n",
    "['ML', 'DL', 'AI', 'CV', 'NLP', 'RNN', 'CNN', 'SVN']\n",
    "\n",
    "['RNN', 'CNN', 'SVN', 'RNN', 'CNN', 'SVN']"
   ]
  },
  {
   "cell_type": "markdown",
   "id": "1bb4a61b",
   "metadata": {},
   "source": [
    "10. what is the difference between the list method append() and insert()?\n",
    "\n",
    "\n",
    "Ans: While append() will add values only to the end of a list, insert() can add them anywhere in the list.\n",
    "\n",
    "#Examples\n",
    "list = [1,2,3,4,5]\n",
    "\n",
    "list.append(6)\n",
    "\n",
    "print(list)\n",
    "\n",
    "list.insert(2,'Demo')\n",
    "\n",
    "print(list)"
   ]
  },
  {
   "cell_type": "markdown",
   "id": "6bc833d9",
   "metadata": {},
   "source": [
    "10. What are the two methods for removing items from a list?\n",
    "\n",
    "\n",
    "Ans: The del statement and the remove() method are two ways to remove values from a list"
   ]
  },
  {
   "cell_type": "markdown",
   "id": "ef5e187d",
   "metadata": {},
   "source": [
    "11. Describe how list values and string values are identical.\n",
    "\n",
    "Ans: Both lists and strings can be passed to len() function, have indexes and slices, be used in for loops, be concatenated or replicated, and be used with the in and not in operators."
   ]
  },
  {
   "cell_type": "markdown",
   "id": "45e7fba9",
   "metadata": {},
   "source": [
    "12. What's the difference between tuples and lists?\n",
    "\n",
    "Ans: Lists are Mutable, Indexable and Slicable. They can have values added, removed, or changed.\n",
    "\n",
    "Tuples are Immutable but Indexable and Slicable. The tuple values cannot be changed at all. Also, tuples are represented using parentheses, (), while lists use the square brackets [ ]"
   ]
  },
  {
   "cell_type": "markdown",
   "id": "15a6f0fc",
   "metadata": {},
   "source": [
    "14. How do you type a tuple value that only contains the integer 42?\n",
    "\n",
    "Ans:tup2=(42,) (The trailing comma is mandatory. otherwise its considered as a int by python Interpreter)\n",
    "\n",
    "    print(type(tup2))"
   ]
  },
  {
   "cell_type": "markdown",
   "id": "84f54926",
   "metadata": {},
   "source": [
    "15. How do you get a list value's tuple form? How do you get a tuple value's list form?\n",
    "\n",
    "Ans: The tuple() and list() functions, respectively are used to convert a list to tuple and vice versa."
   ]
  },
  {
   "cell_type": "markdown",
   "id": "38b3f085",
   "metadata": {},
   "source": [
    "16. Variables that \"contain\" list values are not necessarily lists themselves. Instead, what do they contain?\n",
    "\n",
    "Ans: They contain references to list values."
   ]
  },
  {
   "cell_type": "markdown",
   "id": "8341918d",
   "metadata": {},
   "source": [
    "17. How do you distinguish between copy.copy() and copy.deepcopy()?\n",
    "\n",
    "Ans: The copy.copy() function will do a shallow copy of a list, while the copy.deepcopy() function will do a deep copy of a list. That is, only copy.deepcopy() will duplicate any lists inside the list."
   ]
  },
  {
   "cell_type": "code",
   "execution_count": null,
   "id": "05523072",
   "metadata": {},
   "outputs": [],
   "source": []
  }
 ],
 "metadata": {
  "kernelspec": {
   "display_name": "Python 3 (ipykernel)",
   "language": "python",
   "name": "python3"
  },
  "language_info": {
   "codemirror_mode": {
    "name": "ipython",
    "version": 3
   },
   "file_extension": ".py",
   "mimetype": "text/x-python",
   "name": "python",
   "nbconvert_exporter": "python",
   "pygments_lexer": "ipython3",
   "version": "3.8.8"
  }
 },
 "nbformat": 4,
 "nbformat_minor": 5
}

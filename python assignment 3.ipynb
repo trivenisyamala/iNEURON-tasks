{
 "cells": [
  {
   "cell_type": "markdown",
   "id": "6ec7a7a1",
   "metadata": {},
   "source": [
    "1. Why are functions advantageous to have in your programs?\n",
    "\n",
    "Ans: Functions reduce the need for duplicate code. This makes programs shorter, easier to read, and easier to update.... A function call is what moves the program execution into the function, and the function call evaluates to the function's return value."
   ]
  },
  {
   "cell_type": "markdown",
   "id": "6a7b0f7e",
   "metadata": {},
   "source": [
    "2. When does the code in a function run: when it's specified or when it's called?\n",
    "\n",
    "Ans: The code in a function executes when the function is called, not when the function is specified."
   ]
  },
  {
   "cell_type": "markdown",
   "id": "f9d2cc35",
   "metadata": {},
   "source": [
    "3. What statement creates a function?\n",
    "\n",
    "Ans: The def statement defines a function"
   ]
  },
  {
   "cell_type": "markdown",
   "id": "97e3388f",
   "metadata": {},
   "source": [
    " 4. What is the difference between a function and a function call?\n",
    " \n",
    "Ans: A function is a procedure to achieve a particular result, while function call is using this function to achive that task. Using a function to do a particular task any point in program is called as function call."
   ]
  },
  {
   "cell_type": "markdown",
   "id": "f8e6fd55",
   "metadata": {},
   "source": [
    "5. How many global scopes are there in a Python program? How many local scopes? \n",
    "\n",
    "Ans: When you use an unqualified name inside a function, Python searches three scopes—the local (L), then the global (G), and then the built-in (B)—and stops at the first place the name is found."
   ]
  },
  {
   "cell_type": "markdown",
   "id": "b35cbdda",
   "metadata": {},
   "source": [
    "6. What happens to variables in a local scope when the function call returns?\n",
    "\n",
    "Ans: A local variable retains its value until the next time the function is called.\n",
    "     A local variable becomes undefined after the function call completes.\n",
    "     The local variable can be used outside the function any time after the function call completes."
   ]
  },
  {
   "cell_type": "markdown",
   "id": "acabd15d",
   "metadata": {},
   "source": [
    "7. What is the concept of a return value? Is it possible to have a return value in an expression?\n",
    "\n",
    "Ans: A return value is the value that a function call evaluates to, a return value can be used as part of an expression."
   ]
  },
  {
   "cell_type": "markdown",
   "id": "5f198f3f",
   "metadata": {},
   "source": [
    "8. What does a function return if it has no return statement in it in python?\n",
    "\n",
    "\n",
    "Ans:  In Python, every function returns something. If there are no return statements, then it returns None. If the return statement contains an expression, it's evaluated first and then the value is returned. The return statement terminates the function execution."
   ]
  },
  {
   "cell_type": "markdown",
   "id": "098c91c1",
   "metadata": {},
   "source": [
    "9. How do you make a function variable refer to the global variable?\n",
    "\n",
    "Ans:  The 'total' is a global variable and func() function has a local variable with same name. A function gives preference to local variable over global variable if both are of same name. The modified 'total' variable inside the function then it was not reflected outside the function. Because inside function func() total variable is treated as local variable."
   ]
  },
  {
   "cell_type": "markdown",
   "id": "674826d9",
   "metadata": {},
   "source": [
    "10. What is the data type of None?\n",
    "\n",
    "\n",
    "Ans: The data type of None is NoneType."
   ]
  },
  {
   "cell_type": "markdown",
   "id": "c4643a53",
   "metadata": {},
   "source": [
    "11. What does the sentence import areallyourpetsnamederic do?\n",
    "\n",
    "Ans: That import statement imports a module named areallyourpetsnamederic."
   ]
  },
  {
   "cell_type": "markdown",
   "id": "1f3ddf6d",
   "metadata": {},
   "source": [
    "12. If you had a bacon() feature in a spam module, what would you call it after importing spam?\n",
    "\n",
    "Ans: This function can be called with spam.bacon()."
   ]
  },
  {
   "cell_type": "markdown",
   "id": "f8dda560",
   "metadata": {},
   "source": [
    "13. What can you do to save a programme from crashing if it encounters an error?\n",
    "\n",
    "Ans: Place the line of code that might cause an error in a try clause and use except block to handle the error."
   ]
  },
  {
   "cell_type": "markdown",
   "id": "56992abf",
   "metadata": {},
   "source": [
    "14.What is the purpose of the try clause? What is the purpose of the except clause?\n",
    "\n",
    "\n",
    "Ans: The code that could potentially cause an error goes in the try clause. The code that executes if an error happens goes in the except clause."
   ]
  },
  {
   "cell_type": "code",
   "execution_count": null,
   "id": "c54192d1",
   "metadata": {},
   "outputs": [],
   "source": []
  }
 ],
 "metadata": {
  "kernelspec": {
   "display_name": "Python 3 (ipykernel)",
   "language": "python",
   "name": "python3"
  },
  "language_info": {
   "codemirror_mode": {
    "name": "ipython",
    "version": 3
   },
   "file_extension": ".py",
   "mimetype": "text/x-python",
   "name": "python",
   "nbconvert_exporter": "python",
   "pygments_lexer": "ipython3",
   "version": "3.8.8"
  }
 },
 "nbformat": 4,
 "nbformat_minor": 5
}

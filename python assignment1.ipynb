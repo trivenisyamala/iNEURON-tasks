{
 "cells": [
  {
   "cell_type": "markdown",
   "id": "292cdfaa",
   "metadata": {},
   "source": [
    "1. In the below elements which of them are values or an expression? eg:- values can be integer or string and expressions will be mathematical operators.\n",
    "* \n",
    "'hello'\n",
    "-87.8\n",
    "- \n",
    "/ \n",
    "+\t\n",
    "6 \n",
    "\n",
    "ANS: Values are 'Hello', 6, -87.8 \n",
    "     \n",
    "     Operators are *,-,/,+,6\n"
   ]
  },
  {
   "cell_type": "markdown",
   "id": "b3fb7966",
   "metadata": {},
   "source": [
    "2. What is the difference between string and variable?\n",
    "\n",
    "   String: String is in which words can be written in quotes such: \"triveni\", 'Triveni'\n",
    "\n",
    "   Variable: value in which we can store data just like a container."
   ]
  },
  {
   "cell_type": "markdown",
   "id": "f9c471aa",
   "metadata": {},
   "source": [
    "3. Describe three different data types.\n",
    "\n",
    "List: List is used for storing multiple data items in a single variable. \n",
    "\n",
    "String: A string is a collection of one or more characters put in a single or double quotes.\n",
    "\n",
    "Set: A set is a collection which is unordered, unchangeable, and unindexed but you can remove items and add new items.\n"
   ]
  },
  {
   "cell_type": "markdown",
   "id": "b4a0419e",
   "metadata": {},
   "source": [
    "4. What is an expression made up of? What do all expressions do?\n",
    "   \n",
    "   An Expression is a combination of variables and operators.\n",
    "   \n",
    "# variables \n",
    "a = 10;\n",
    "b = 20\n",
    "\n",
    "# The expression - sum\n",
    "c = a + b"
   ]
  },
  {
   "cell_type": "markdown",
   "id": "6fa5f33b",
   "metadata": {},
   "source": [
    "5.This assignment statements, like spam = 10. What is the difference between an expression and a statement?\n",
    "\n",
    "A statement does something. Statements represent an action or command e.g print statements, assignment statements. Expression is a combination of variables, operations and values that yields a result value. An expression is something that can be reduced to a value, for example \"1+3\" or \"foo = 1+3\""
   ]
  },
  {
   "cell_type": "markdown",
   "id": "a27e0352",
   "metadata": {},
   "source": [
    "6.After running the following code, what does the variable bacon contain?\n",
    "  bacon = 22\n",
    "  bacon + 1\n",
    "\n",
    "Ans: 23"
   ]
  },
  {
   "cell_type": "markdown",
   "id": "b2cce257",
   "metadata": {},
   "source": [
    "7.What should the values of the following two terms be?\n",
    "\n",
    "'spam' + 'spamspam'\n",
    "\n",
    "'spam' * 3\n",
    "\n",
    "Ans:spamspamspam\n",
    "    spamspamspam"
   ]
  },
  {
   "cell_type": "markdown",
   "id": "9dd3634d",
   "metadata": {},
   "source": [
    "8. Why is eggs a valid variable name while 100 is invalid?\n",
    "\n",
    "Ans: Because we can't start giving variable an integer name. if we, we should begin with, a string-like alphabet name then integer. e100 or eggs100 is valid"
   ]
  },
  {
   "cell_type": "markdown",
   "id": "da440a86",
   "metadata": {},
   "source": [
    "9. What three functions can be used to get the integer, floating-point number, or string\n",
    "version of a value?\n",
    "\n",
    "ANS: str(), int(), float()"
   ]
  },
  {
   "cell_type": "markdown",
   "id": "571cc2df",
   "metadata": {},
   "source": [
    "10. Why does this expression cause an error? How can you fix it?\n",
    "    'I have eaten ' + 99 + ' burritos.'\n",
    "Ans: 99 is an integer it cannot be concatenated with strings, if we have to concatenate it we need to do typecasting."
   ]
  },
  {
   "cell_type": "code",
   "execution_count": null,
   "id": "e11f6997",
   "metadata": {},
   "outputs": [],
   "source": []
  }
 ],
 "metadata": {
  "kernelspec": {
   "display_name": "Python 3 (ipykernel)",
   "language": "python",
   "name": "python3"
  },
  "language_info": {
   "codemirror_mode": {
    "name": "ipython",
    "version": 3
   },
   "file_extension": ".py",
   "mimetype": "text/x-python",
   "name": "python",
   "nbconvert_exporter": "python",
   "pygments_lexer": "ipython3",
   "version": "3.8.8"
  }
 },
 "nbformat": 4,
 "nbformat_minor": 5
}
